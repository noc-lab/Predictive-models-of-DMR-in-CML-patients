{
 "cells": [
  {
   "cell_type": "code",
   "execution_count": 1,
   "metadata": {},
   "outputs": [],
   "source": [
    "from CML_MODULE__model_12_long import model_12_long"
   ]
  },
  {
   "cell_type": "code",
   "execution_count": 2,
   "metadata": {},
   "outputs": [
    {
     "name": "stdout",
     "output_type": "stream",
     "text": [
      "Enter BCR-ABL1 ratio (percantage) at 3 months after start of Imatinib: 2\n",
      "Enter BCR-ABL1 ratio (percantage) at 6 months after start of Imatinib: 2\n",
      "Enter BCR-ABL1 ratio (percantage) at 9 months after start of Imatinib: 2\n",
      "Enter BCR-ABL1 ratio (percantage) at 12 months after start of Imatinib: 2\n",
      "Enter White Blood Cell count at diagnosis: 2\n",
      "The probability of Deep Molecular Response achievement, using patient information up to 12 months after start of Imatinib, is: 0.85\n"
     ]
    }
   ],
   "source": [
    "model_12_long()\n",
    "# Here, you are asked to enter the subject's data one by one.\n",
    "# Enter each data and press Enter key.\n",
    "# At the end, the predicted probability will be shown."
   ]
  },
  {
   "cell_type": "code",
   "execution_count": null,
   "metadata": {},
   "outputs": [],
   "source": []
  }
 ],
 "metadata": {
  "kernelspec": {
   "display_name": "Python 3",
   "language": "python",
   "name": "python3"
  },
  "language_info": {
   "codemirror_mode": {
    "name": "ipython",
    "version": 3
   },
   "file_extension": ".py",
   "mimetype": "text/x-python",
   "name": "python",
   "nbconvert_exporter": "python",
   "pygments_lexer": "ipython3",
   "version": "3.7.6"
  }
 },
 "nbformat": 4,
 "nbformat_minor": 4
}
