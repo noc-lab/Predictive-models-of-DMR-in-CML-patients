{
 "cells": [
  {
   "cell_type": "code",
   "execution_count": 1,
   "metadata": {},
   "outputs": [],
   "source": [
    "from CML_MODULE__model_3_18 import model_3_18"
   ]
  },
  {
   "cell_type": "code",
   "execution_count": 2,
   "metadata": {},
   "outputs": [
    {
     "name": "stdout",
     "output_type": "stream",
     "text": [
      "Enter BCR-ABL1 ratio (percantage) at 3 months after start of Imatinib: 20\n",
      "Enter White Blood Cell count at diagnosis: 2\n",
      "The probability of Molecular Response achievement at 18 months after start of Imatinib tretment, using patient information up to 3 months after start of Imatinib, is: 0.8\n"
     ]
    }
   ],
   "source": [
    "model_3_18()\n",
    "# Here, you are asked to enter the subject's data one by one.\n",
    "# Enter each data and press Enter key.\n",
    "# At the end, the predicted probability will be shown."
   ]
  },
  {
   "cell_type": "code",
   "execution_count": null,
   "metadata": {},
   "outputs": [],
   "source": []
  }
 ],
 "metadata": {
  "kernelspec": {
   "display_name": "Python 3",
   "language": "python",
   "name": "python3"
  },
  "language_info": {
   "codemirror_mode": {
    "name": "ipython",
    "version": 3
   },
   "file_extension": ".py",
   "mimetype": "text/x-python",
   "name": "python",
   "nbconvert_exporter": "python",
   "pygments_lexer": "ipython3",
   "version": "3.7.6"
  }
 },
 "nbformat": 4,
 "nbformat_minor": 4
}
