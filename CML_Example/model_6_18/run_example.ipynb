{
 "cells": [
  {
   "cell_type": "code",
   "execution_count": 1,
   "id": "542b56c4",
   "metadata": {},
   "outputs": [],
   "source": [
    "from module_model_6_18 import model_6_18"
   ]
  },
  {
   "cell_type": "code",
   "execution_count": 2,
   "id": "9ee8415b",
   "metadata": {},
   "outputs": [
    {
     "name": "stdout",
     "output_type": "stream",
     "text": [
      "Enter BCR-ABL1 ratio (percantage) at 3 months after start of Imatinib: 1\n",
      "Enter BCR-ABL1 ratio (percantage) at 6 months after start of Imatinib: 0.01\n",
      "Enter 1 if patient achieved Complete Molecular Response (CMR), otherwise enter 0: 1\n",
      "Enter date of the patient's CMR achievement, in the format of MM/DD/YYYY : 09/01/2023\n",
      "Enter start date of Imatinib treatment, in the format of MM/DD/YYYY : 05/01/2023\n",
      "Enter 1 if loss of CMR is recorded for the patient, otherwise enter 0: 0\n",
      "The probability of Molecular Response achievement at 18 months after start of Imatinib tretment, using patient information up to 6 months after start of Imatinib, is: 0.85\n"
     ]
    }
   ],
   "source": [
    "model_6_18()\n",
    "# Here, you are asked to enter the subject's data one by one.\n",
    "# Enter each data and press Enter key.\n",
    "# At the end, the predicted probability will be shown."
   ]
  },
  {
   "cell_type": "code",
   "execution_count": null,
   "id": "4f34f54a",
   "metadata": {},
   "outputs": [],
   "source": []
  }
 ],
 "metadata": {
  "kernelspec": {
   "display_name": "Python 3 (ipykernel)",
   "language": "python",
   "name": "python3"
  },
  "language_info": {
   "codemirror_mode": {
    "name": "ipython",
    "version": 3
   },
   "file_extension": ".py",
   "mimetype": "text/x-python",
   "name": "python",
   "nbconvert_exporter": "python",
   "pygments_lexer": "ipython3",
   "version": "3.11.5"
  }
 },
 "nbformat": 4,
 "nbformat_minor": 5
}
