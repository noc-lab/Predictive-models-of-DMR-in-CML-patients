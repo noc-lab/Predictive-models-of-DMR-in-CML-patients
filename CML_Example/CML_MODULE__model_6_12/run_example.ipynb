{
 "cells": [
  {
   "cell_type": "code",
   "execution_count": 1,
   "metadata": {},
   "outputs": [],
   "source": [
    "from CML_MODULE__model_6_12 import model_6_12"
   ]
  },
  {
   "cell_type": "code",
   "execution_count": 2,
   "metadata": {},
   "outputs": [
    {
     "name": "stdout",
     "output_type": "stream",
     "text": [
      "Enter BCR-ABL1 ratio (percantage) at 3 months after start of Imatinib: 2\n",
      "Enter BCR-ABL1 ratio (percantage) at 6 months after start of Imatinib: 2\n",
      "Enter White Blood Cell count at diagnosis: 2\n",
      "The probability of Molecular Response achievement at 12 months after start of Imatinib tretment, using patient information up to 6 months after start of Imatinib, is: 0.61\n"
     ]
    }
   ],
   "source": [
    "model_6_12()\n",
    "# Here, you are asked to enter the subject's data one by one.\n",
    "# Enter each data and press Enter key.\n",
    "# At the end, the predicted probability will be shown."
   ]
  },
  {
   "cell_type": "code",
   "execution_count": null,
   "metadata": {},
   "outputs": [],
   "source": []
  }
 ],
 "metadata": {
  "kernelspec": {
   "display_name": "Python 3",
   "language": "python",
   "name": "python3"
  },
  "language_info": {
   "codemirror_mode": {
    "name": "ipython",
    "version": 3
   },
   "file_extension": ".py",
   "mimetype": "text/x-python",
   "name": "python",
   "nbconvert_exporter": "python",
   "pygments_lexer": "ipython3",
   "version": "3.7.6"
  }
 },
 "nbformat": 4,
 "nbformat_minor": 4
}
