{
 "cells": [
  {
   "cell_type": "code",
   "execution_count": 1,
   "id": "542b56c4",
   "metadata": {},
   "outputs": [],
   "source": [
    "from module_model_long_12 import model_long_12"
   ]
  },
  {
   "cell_type": "code",
   "execution_count": 2,
   "id": "9ee8415b",
   "metadata": {},
   "outputs": [
    {
     "name": "stdout",
     "output_type": "stream",
     "text": [
      "Enter BCR-ABL1 ratio (percantage) at 3 months after start of Imatinib (or 'None' to represent None): 0.01\n",
      "Enter BCR-ABL1 ratio (percantage) at 6 months after start of Imatinib (or 'None' to represent None): 0.01\n",
      "Enter BCR-ABL1 ratio (percantage) at 12 months after start of Imatinib (or 'None' to represent None): 0.001\n",
      "Enter 1 if patient achieved Complete Molecular Response (CMR), otherwise enter 0: 1\n",
      "Enter date of the patient's CMR achievement, in the format of MM/DD/YYYY : 12/01/2023\n",
      "Enter start date of Imatinib treatment, in the format of MM/DD/YYYY : 10/01/2023\n",
      "Enter 1 if loss of CMR is recorded for the patient, otherwise enter 0: 0\n",
      "The probability of Deep Molecular Response achievement, using patient information up to 12 months after start of Imatinib, is: 0.84\n"
     ]
    }
   ],
   "source": [
    "model_long_12()\n",
    "# Here, you are asked to enter the subject's data one by one.\n",
    "# Enter each data and press Enter key.\n",
    "# At the end, the predicted probability will be shown."
   ]
  },
  {
   "cell_type": "code",
   "execution_count": null,
   "id": "4f34f54a",
   "metadata": {},
   "outputs": [],
   "source": []
  }
 ],
 "metadata": {
  "kernelspec": {
   "display_name": "Python 3 (ipykernel)",
   "language": "python",
   "name": "python3"
  },
  "language_info": {
   "codemirror_mode": {
    "name": "ipython",
    "version": 3
   },
   "file_extension": ".py",
   "mimetype": "text/x-python",
   "name": "python",
   "nbconvert_exporter": "python",
   "pygments_lexer": "ipython3",
   "version": "3.11.5"
  }
 },
 "nbformat": 4,
 "nbformat_minor": 5
}
